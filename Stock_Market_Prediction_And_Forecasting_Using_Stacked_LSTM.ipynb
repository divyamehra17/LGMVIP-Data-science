{
  "nbformat": 4,
  "nbformat_minor": 0,
  "metadata": {
    "colab": {
      "name": "Stock Market Prediction And Forecasting Using Stacked LSTM.ipynb",
      "provenance": [],
      "collapsed_sections": [],
      "authorship_tag": "ABX9TyNa1uHhTJjmPQ5UZ9ite01F",
      "include_colab_link": true
    },
    "kernelspec": {
      "name": "python3",
      "display_name": "Python 3"
    },
    "language_info": {
      "name": "python"
    }
  },
  "cells": [
    {
      "cell_type": "markdown",
      "metadata": {
        "id": "view-in-github",
        "colab_type": "text"
      },
      "source": [
        "<a href=\"https://colab.research.google.com/github/divyamehra17/Stock-Market-Prediction-And-Forecasting-Using-Stacked-LSTM/blob/main/Stock_Market_Prediction_And_Forecasting_Using_Stacked_LSTM.ipynb\" target=\"_parent\"><img src=\"https://colab.research.google.com/assets/colab-badge.svg\" alt=\"Open In Colab\"/></a>"
      ]
    },
    {
      "cell_type": "code",
      "metadata": {
        "id": "5sREN-TmJ-bf"
      },
      "source": [
        "### keras and Tensorflow >2.0"
      ],
      "execution_count": 2,
      "outputs": []
    },
    {
      "cell_type": "code",
      "metadata": {
        "id": "Wy37NQgkLfuL"
      },
      "source": [
        "import pandas_datareader as pdr\n"
      ],
      "execution_count": 4,
      "outputs": []
    },
    {
      "cell_type": "code",
      "metadata": {
        "id": "QnOfu_IKMbVd"
      },
      "source": [
        "df = pdr.get_data_tiingo('AAPL', api_key=\"b5472674a76d10966e87ebe15f0ef17529106daa\")"
      ],
      "execution_count": 9,
      "outputs": []
    },
    {
      "cell_type": "code",
      "metadata": {
        "id": "xONFW0IpPLp6"
      },
      "source": [
        "df.to_csv('AAPL.csv')"
      ],
      "execution_count": 11,
      "outputs": []
    },
    {
      "cell_type": "code",
      "metadata": {
        "id": "CzGQPvLrQtUY"
      },
      "source": [
        "import pandas as pd"
      ],
      "execution_count": 12,
      "outputs": []
    },
    {
      "cell_type": "code",
      "metadata": {
        "id": "Q268ueu8Qw9Y"
      },
      "source": [
        "df=pd.read_csv('AAPL.csv')"
      ],
      "execution_count": 13,
      "outputs": []
    },
    {
      "cell_type": "code",
      "metadata": {
        "colab": {
          "base_uri": "https://localhost:8080/",
          "height": 206
        },
        "id": "ambUebJwQ1GO",
        "outputId": "de0a9239-52fc-4d85-e182-f839b73f1dea"
      },
      "source": [
        "df.head()"
      ],
      "execution_count": 14,
      "outputs": [
        {
          "output_type": "execute_result",
          "data": {
            "text/html": [
              "<div>\n",
              "<style scoped>\n",
              "    .dataframe tbody tr th:only-of-type {\n",
              "        vertical-align: middle;\n",
              "    }\n",
              "\n",
              "    .dataframe tbody tr th {\n",
              "        vertical-align: top;\n",
              "    }\n",
              "\n",
              "    .dataframe thead th {\n",
              "        text-align: right;\n",
              "    }\n",
              "</style>\n",
              "<table border=\"1\" class=\"dataframe\">\n",
              "  <thead>\n",
              "    <tr style=\"text-align: right;\">\n",
              "      <th></th>\n",
              "      <th>symbol</th>\n",
              "      <th>date</th>\n",
              "      <th>close</th>\n",
              "      <th>high</th>\n",
              "      <th>low</th>\n",
              "      <th>open</th>\n",
              "      <th>volume</th>\n",
              "      <th>adjClose</th>\n",
              "      <th>adjHigh</th>\n",
              "      <th>adjLow</th>\n",
              "      <th>adjOpen</th>\n",
              "      <th>adjVolume</th>\n",
              "      <th>divCash</th>\n",
              "      <th>splitFactor</th>\n",
              "    </tr>\n",
              "  </thead>\n",
              "  <tbody>\n",
              "    <tr>\n",
              "      <th>0</th>\n",
              "      <td>AAPL</td>\n",
              "      <td>2016-10-06 00:00:00+00:00</td>\n",
              "      <td>113.89</td>\n",
              "      <td>114.34</td>\n",
              "      <td>113.13</td>\n",
              "      <td>113.70</td>\n",
              "      <td>28779313</td>\n",
              "      <td>26.697841</td>\n",
              "      <td>26.803329</td>\n",
              "      <td>26.519684</td>\n",
              "      <td>26.653302</td>\n",
              "      <td>115117252</td>\n",
              "      <td>0.0</td>\n",
              "      <td>1.0</td>\n",
              "    </tr>\n",
              "    <tr>\n",
              "      <th>1</th>\n",
              "      <td>AAPL</td>\n",
              "      <td>2016-10-07 00:00:00+00:00</td>\n",
              "      <td>114.06</td>\n",
              "      <td>114.56</td>\n",
              "      <td>113.51</td>\n",
              "      <td>114.31</td>\n",
              "      <td>24358443</td>\n",
              "      <td>26.737692</td>\n",
              "      <td>26.854901</td>\n",
              "      <td>26.608762</td>\n",
              "      <td>26.796297</td>\n",
              "      <td>97433772</td>\n",
              "      <td>0.0</td>\n",
              "      <td>1.0</td>\n",
              "    </tr>\n",
              "    <tr>\n",
              "      <th>2</th>\n",
              "      <td>AAPL</td>\n",
              "      <td>2016-10-10 00:00:00+00:00</td>\n",
              "      <td>116.05</td>\n",
              "      <td>116.75</td>\n",
              "      <td>114.72</td>\n",
              "      <td>115.02</td>\n",
              "      <td>36235956</td>\n",
              "      <td>27.204184</td>\n",
              "      <td>27.368276</td>\n",
              "      <td>26.892408</td>\n",
              "      <td>26.962733</td>\n",
              "      <td>144943824</td>\n",
              "      <td>0.0</td>\n",
              "      <td>1.0</td>\n",
              "    </tr>\n",
              "    <tr>\n",
              "      <th>3</th>\n",
              "      <td>AAPL</td>\n",
              "      <td>2016-10-11 00:00:00+00:00</td>\n",
              "      <td>116.30</td>\n",
              "      <td>118.69</td>\n",
              "      <td>116.20</td>\n",
              "      <td>117.70</td>\n",
              "      <td>64041043</td>\n",
              "      <td>27.262788</td>\n",
              "      <td>27.823046</td>\n",
              "      <td>27.239346</td>\n",
              "      <td>27.590973</td>\n",
              "      <td>256164172</td>\n",
              "      <td>0.0</td>\n",
              "      <td>1.0</td>\n",
              "    </tr>\n",
              "    <tr>\n",
              "      <th>4</th>\n",
              "      <td>AAPL</td>\n",
              "      <td>2016-10-12 00:00:00+00:00</td>\n",
              "      <td>117.34</td>\n",
              "      <td>117.98</td>\n",
              "      <td>116.75</td>\n",
              "      <td>117.35</td>\n",
              "      <td>37586787</td>\n",
              "      <td>27.506582</td>\n",
              "      <td>27.656610</td>\n",
              "      <td>27.368276</td>\n",
              "      <td>27.508927</td>\n",
              "      <td>150347148</td>\n",
              "      <td>0.0</td>\n",
              "      <td>1.0</td>\n",
              "    </tr>\n",
              "  </tbody>\n",
              "</table>\n",
              "</div>"
            ],
            "text/plain": [
              "  symbol                       date   close  ...  adjVolume  divCash  splitFactor\n",
              "0   AAPL  2016-10-06 00:00:00+00:00  113.89  ...  115117252      0.0          1.0\n",
              "1   AAPL  2016-10-07 00:00:00+00:00  114.06  ...   97433772      0.0          1.0\n",
              "2   AAPL  2016-10-10 00:00:00+00:00  116.05  ...  144943824      0.0          1.0\n",
              "3   AAPL  2016-10-11 00:00:00+00:00  116.30  ...  256164172      0.0          1.0\n",
              "4   AAPL  2016-10-12 00:00:00+00:00  117.34  ...  150347148      0.0          1.0\n",
              "\n",
              "[5 rows x 14 columns]"
            ]
          },
          "metadata": {},
          "execution_count": 14
        }
      ]
    },
    {
      "cell_type": "code",
      "metadata": {
        "colab": {
          "base_uri": "https://localhost:8080/",
          "height": 206
        },
        "id": "NSF9rdLLSAWu",
        "outputId": "ae966ef0-499b-4994-e325-24b2e1234c21"
      },
      "source": [
        "df.tail()"
      ],
      "execution_count": 15,
      "outputs": [
        {
          "output_type": "execute_result",
          "data": {
            "text/html": [
              "<div>\n",
              "<style scoped>\n",
              "    .dataframe tbody tr th:only-of-type {\n",
              "        vertical-align: middle;\n",
              "    }\n",
              "\n",
              "    .dataframe tbody tr th {\n",
              "        vertical-align: top;\n",
              "    }\n",
              "\n",
              "    .dataframe thead th {\n",
              "        text-align: right;\n",
              "    }\n",
              "</style>\n",
              "<table border=\"1\" class=\"dataframe\">\n",
              "  <thead>\n",
              "    <tr style=\"text-align: right;\">\n",
              "      <th></th>\n",
              "      <th>symbol</th>\n",
              "      <th>date</th>\n",
              "      <th>close</th>\n",
              "      <th>high</th>\n",
              "      <th>low</th>\n",
              "      <th>open</th>\n",
              "      <th>volume</th>\n",
              "      <th>adjClose</th>\n",
              "      <th>adjHigh</th>\n",
              "      <th>adjLow</th>\n",
              "      <th>adjOpen</th>\n",
              "      <th>adjVolume</th>\n",
              "      <th>divCash</th>\n",
              "      <th>splitFactor</th>\n",
              "    </tr>\n",
              "  </thead>\n",
              "  <tbody>\n",
              "    <tr>\n",
              "      <th>1252</th>\n",
              "      <td>AAPL</td>\n",
              "      <td>2021-09-28 00:00:00+00:00</td>\n",
              "      <td>141.91</td>\n",
              "      <td>144.750</td>\n",
              "      <td>141.6900</td>\n",
              "      <td>143.25</td>\n",
              "      <td>108972340</td>\n",
              "      <td>141.91</td>\n",
              "      <td>144.750</td>\n",
              "      <td>141.6900</td>\n",
              "      <td>143.25</td>\n",
              "      <td>108972340</td>\n",
              "      <td>0.0</td>\n",
              "      <td>1.0</td>\n",
              "    </tr>\n",
              "    <tr>\n",
              "      <th>1253</th>\n",
              "      <td>AAPL</td>\n",
              "      <td>2021-09-29 00:00:00+00:00</td>\n",
              "      <td>142.83</td>\n",
              "      <td>144.450</td>\n",
              "      <td>142.0300</td>\n",
              "      <td>142.47</td>\n",
              "      <td>74602044</td>\n",
              "      <td>142.83</td>\n",
              "      <td>144.450</td>\n",
              "      <td>142.0300</td>\n",
              "      <td>142.47</td>\n",
              "      <td>74602044</td>\n",
              "      <td>0.0</td>\n",
              "      <td>1.0</td>\n",
              "    </tr>\n",
              "    <tr>\n",
              "      <th>1254</th>\n",
              "      <td>AAPL</td>\n",
              "      <td>2021-09-30 00:00:00+00:00</td>\n",
              "      <td>141.50</td>\n",
              "      <td>144.378</td>\n",
              "      <td>141.2800</td>\n",
              "      <td>143.66</td>\n",
              "      <td>89056664</td>\n",
              "      <td>141.50</td>\n",
              "      <td>144.378</td>\n",
              "      <td>141.2800</td>\n",
              "      <td>143.66</td>\n",
              "      <td>89056664</td>\n",
              "      <td>0.0</td>\n",
              "      <td>1.0</td>\n",
              "    </tr>\n",
              "    <tr>\n",
              "      <th>1255</th>\n",
              "      <td>AAPL</td>\n",
              "      <td>2021-10-01 00:00:00+00:00</td>\n",
              "      <td>142.65</td>\n",
              "      <td>142.920</td>\n",
              "      <td>139.1101</td>\n",
              "      <td>141.90</td>\n",
              "      <td>94639581</td>\n",
              "      <td>142.65</td>\n",
              "      <td>142.920</td>\n",
              "      <td>139.1101</td>\n",
              "      <td>141.90</td>\n",
              "      <td>94639581</td>\n",
              "      <td>0.0</td>\n",
              "      <td>1.0</td>\n",
              "    </tr>\n",
              "    <tr>\n",
              "      <th>1256</th>\n",
              "      <td>AAPL</td>\n",
              "      <td>2021-10-04 00:00:00+00:00</td>\n",
              "      <td>139.14</td>\n",
              "      <td>142.210</td>\n",
              "      <td>138.2700</td>\n",
              "      <td>141.76</td>\n",
              "      <td>98322008</td>\n",
              "      <td>139.14</td>\n",
              "      <td>142.210</td>\n",
              "      <td>138.2700</td>\n",
              "      <td>141.76</td>\n",
              "      <td>98322008</td>\n",
              "      <td>0.0</td>\n",
              "      <td>1.0</td>\n",
              "    </tr>\n",
              "  </tbody>\n",
              "</table>\n",
              "</div>"
            ],
            "text/plain": [
              "     symbol                       date   close  ...  adjVolume  divCash  splitFactor\n",
              "1252   AAPL  2021-09-28 00:00:00+00:00  141.91  ...  108972340      0.0          1.0\n",
              "1253   AAPL  2021-09-29 00:00:00+00:00  142.83  ...   74602044      0.0          1.0\n",
              "1254   AAPL  2021-09-30 00:00:00+00:00  141.50  ...   89056664      0.0          1.0\n",
              "1255   AAPL  2021-10-01 00:00:00+00:00  142.65  ...   94639581      0.0          1.0\n",
              "1256   AAPL  2021-10-04 00:00:00+00:00  139.14  ...   98322008      0.0          1.0\n",
              "\n",
              "[5 rows x 14 columns]"
            ]
          },
          "metadata": {},
          "execution_count": 15
        }
      ]
    },
    {
      "cell_type": "code",
      "metadata": {
        "id": "B7Q9UpO1SFG1"
      },
      "source": [
        "df1=df.reset_index()['close']"
      ],
      "execution_count": 16,
      "outputs": []
    },
    {
      "cell_type": "code",
      "metadata": {
        "colab": {
          "base_uri": "https://localhost:8080/"
        },
        "id": "QgtRP3acStRC",
        "outputId": "bb4db0c1-fc92-4413-a7f4-2e708c65805e"
      },
      "source": [
        "df1\n"
      ],
      "execution_count": 17,
      "outputs": [
        {
          "output_type": "execute_result",
          "data": {
            "text/plain": [
              "0       113.89\n",
              "1       114.06\n",
              "2       116.05\n",
              "3       116.30\n",
              "4       117.34\n",
              "         ...  \n",
              "1252    141.91\n",
              "1253    142.83\n",
              "1254    141.50\n",
              "1255    142.65\n",
              "1256    139.14\n",
              "Name: close, Length: 1257, dtype: float64"
            ]
          },
          "metadata": {},
          "execution_count": 17
        }
      ]
    },
    {
      "cell_type": "code",
      "metadata": {
        "colab": {
          "base_uri": "https://localhost:8080/",
          "height": 282
        },
        "id": "Fr7GdzdvSztn",
        "outputId": "f2c8cb7b-83ba-4248-b23d-879bed5082aa"
      },
      "source": [
        "import matplotlib.pyplot as plt\n",
        "plt.plot(df1)"
      ],
      "execution_count": 18,
      "outputs": [
        {
          "output_type": "execute_result",
          "data": {
            "text/plain": [
              "[<matplotlib.lines.Line2D at 0x7fb99bf00ad0>]"
            ]
          },
          "metadata": {},
          "execution_count": 18
        },
        {
          "output_type": "display_data",
          "data": {
            "image/png": "[encoded data removed]",
            "text/plain": [
              "<Figure size 432x288 with 1 Axes>"
            ]
          },
          "metadata": {
            "needs_background": "light"
          }
        }
      ]
    },
    {
      "cell_type": "code",
      "metadata": {
        "id": "iHJLKAZATGYb"
      },
      "source": [
        "### LSTM are sensitive to the scale of the data. so we apply MinMax scaler "
      ],
      "execution_count": 19,
      "outputs": []
    },
    {
      "cell_type": "code",
      "metadata": {
        "id": "YQxdxwpnTfKi"
      },
      "source": [
        "import numpy as np"
      ],
      "execution_count": 20,
      "outputs": []
    },
    {
      "cell_type": "code",
      "metadata": {
        "colab": {
          "base_uri": "https://localhost:8080/"
        },
        "id": "wyY5rPZsTiD-",
        "outputId": "5d68c6d3-d62c-4531-d451-e1173eba0c95"
      },
      "source": [
        "df1"
      ],
      "execution_count": 21,
      "outputs": [
        {
          "output_type": "execute_result",
          "data": {
            "text/plain": [
              "0       113.89\n",
              "1       114.06\n",
              "2       116.05\n",
              "3       116.30\n",
              "4       117.34\n",
              "         ...  \n",
              "1252    141.91\n",
              "1253    142.83\n",
              "1254    141.50\n",
              "1255    142.65\n",
              "1256    139.14\n",
              "Name: close, Length: 1257, dtype: float64"
            ]
          },
          "metadata": {},
          "execution_count": 21
        }
      ]
    },
    {
      "cell_type": "code",
      "metadata": {
        "id": "oIo1Q05STp7Z"
      },
      "source": [
        "from sklearn.preprocessing import MinMaxScaler\n",
        "scaler=MinMaxScaler(feature_range=(0,1))\n",
        "df1=scaler.fit_transform(np.array(df1).reshape(-1,1))"
      ],
      "execution_count": 22,
      "outputs": []
    },
    {
      "cell_type": "code",
      "metadata": {
        "colab": {
          "base_uri": "https://localhost:8080/"
        },
        "id": "JHoKY77sT8lF",
        "outputId": "1034b700-914f-4f27-8cdd-8f5653f6e916"
      },
      "source": [
        "print(df1)"
      ],
      "execution_count": 23,
      "outputs": [
        {
          "output_type": "stream",
          "name": "stdout",
          "text": [
            "[[0.02043059]\n",
            " [0.02085519]\n",
            " [0.02582547]\n",
            " ...\n",
            " [0.08939008]\n",
            " [0.09226235]\n",
            " [0.08349568]]\n"
          ]
        }
      ]
    },
    {
      "cell_type": "code",
      "metadata": {
        "id": "9sp1fXtOUAJS"
      },
      "source": [
        "##splitting dataset into train and test split\n",
        "training_size=int(len(df1)*0.65)\n",
        "test_size=len(df1)-training_size\n",
        "train_data,test_data=df1[0:training_size,:],df1[training_size:len(df1),:1]"
      ],
      "execution_count": 24,
      "outputs": []
    },
    {
      "cell_type": "code",
      "metadata": {
        "colab": {
          "base_uri": "https://localhost:8080/"
        },
        "id": "OxuYHLaHV-G1",
        "outputId": "1dab87e9-7c4c-4a4c-c05c-462cfc35b810"
      },
      "source": [
        "training_size,test_size"
      ],
      "execution_count": 25,
      "outputs": [
        {
          "output_type": "execute_result",
          "data": {
            "text/plain": [
              "(817, 440)"
            ]
          },
          "metadata": {},
          "execution_count": 25
        }
      ]
    },
    {
      "cell_type": "code",
      "metadata": {
        "colab": {
          "base_uri": "https://localhost:8080/"
        },
        "id": "vJRc77NUWCUF",
        "outputId": "49b2dd90-0e16-4e82-8b75-e767db466d34"
      },
      "source": [
        "train_data"
      ],
      "execution_count": 26,
      "outputs": [
        {
          "output_type": "execute_result",
          "data": {
            "text/plain": [
              "array([[0.02043059],\n",
              "       [0.02085519],\n",
              "       [0.02582547],\n",
              "       [0.02644987],\n",
              "       [0.0290474 ],\n",
              "       [0.02814826],\n",
              "       [0.02977172],\n",
              "       [0.02957191],\n",
              "       [0.0293721 ],\n",
              "       [0.02849793],\n",
              "       [0.02834807],\n",
              "       [0.02719916],\n",
              "       [0.02982167],\n",
              "       [0.03132025],\n",
              "       [0.02467656],\n",
              "       [0.02190419],\n",
              "       [0.02000599],\n",
              "       [0.01955642],\n",
              "       [0.01443629],\n",
              "       [0.01468605],\n",
              "       [0.01029022],\n",
              "       [0.00781757],\n",
              "       [0.01173885],\n",
              "       [0.01336231],\n",
              "       [0.01291273],\n",
              "       [0.00519506],\n",
              "       [0.00679355],\n",
              "       [0.        ],\n",
              "       [0.00349668],\n",
              "       [0.01068984],\n",
              "       [0.01058994],\n",
              "       [0.01086468],\n",
              "       [0.01503572],\n",
              "       [0.01521055],\n",
              "       [0.0137869 ],\n",
              "       [0.01518557],\n",
              "       [0.0146361 ],\n",
              "       [0.01436136],\n",
              "       [0.01201359],\n",
              "       [0.00944103],\n",
              "       [0.01046506],\n",
              "       [0.00849193],\n",
              "       [0.01058994],\n",
              "       [0.01328738],\n",
              "       [0.01600979],\n",
              "       [0.02058045],\n",
              "       [0.01895699],\n",
              "       [0.02367751],\n",
              "       [0.02367751],\n",
              "       [0.02525101],\n",
              "       [0.02562566],\n",
              "       [0.02729907],\n",
              "       [0.02807333],\n",
              "       [0.02834807],\n",
              "       [0.0264249 ],\n",
              "       [0.02699935],\n",
              "       [0.02884759],\n",
              "       [0.02759878],\n",
              "       [0.02752385],\n",
              "       [0.02525101],\n",
              "       [0.02607523],\n",
              "       [0.02575054],\n",
              "       [0.02722414],\n",
              "       [0.03047105],\n",
              "       [0.03316849],\n",
              "       [0.03346821],\n",
              "       [0.03506669],\n",
              "       [0.03381787],\n",
              "       [0.03329337],\n",
              "       [0.03569109],\n",
              "       [0.03566612],\n",
              "       [0.03514162],\n",
              "       [0.03569109],\n",
              "       [0.0358909 ],\n",
              "       [0.03561616],\n",
              "       [0.04038663],\n",
              "       [0.04053649],\n",
              "       [0.04056147],\n",
              "       [0.03976223],\n",
              "       [0.03906289],\n",
              "       [0.05754533],\n",
              "       [0.05699585],\n",
              "       [0.05836955],\n",
              "       [0.06139168],\n",
              "       [0.06448874],\n",
              "       [0.06576253],\n",
              "       [0.06671162],\n",
              "       [0.06596234],\n",
              "       [0.06888456],\n",
              "       [0.07320545],\n",
              "       [0.07442929],\n",
              "       [0.07401718],\n",
              "       [0.07495379],\n",
              "       [0.07740147],\n",
              "       [0.0784255 ],\n",
              "       [0.07697687],\n",
              "       [0.07730156],\n",
              "       [0.07797592],\n",
              "       [0.07812578],\n",
              "       [0.08511914],\n",
              "       [0.08304611],\n",
              "       [0.08509416],\n",
              "       [0.0839952 ],\n",
              "       [0.08444478],\n",
              "       [0.08314601],\n",
              "       [0.08234677],\n",
              "       [0.08349568],\n",
              "       [0.08364554],\n",
              "       [0.08312104],\n",
              "       [0.08679255],\n",
              "       [0.087367  ],\n",
              "       [0.08561866],\n",
              "       [0.08929017],\n",
              "       [0.08524402],\n",
              "       [0.08919027],\n",
              "       [0.08794146],\n",
              "       [0.08724212],\n",
              "       [0.08784155],\n",
              "       [0.09513462],\n",
              "       [0.09593386],\n",
              "       [0.09545931],\n",
              "       [0.09478495],\n",
              "       [0.09488486],\n",
              "       [0.09755732],\n",
              "       [0.0956841 ],\n",
              "       [0.09478495],\n",
              "       [0.09398571],\n",
              "       [0.09356112],\n",
              "       [0.08971477],\n",
              "       [0.09013937],\n",
              "       [0.08826615],\n",
              "       [0.0902143 ],\n",
              "       [0.08864079],\n",
              "       [0.08734203],\n",
              "       [0.09173785],\n",
              "       [0.09131325],\n",
              "       [0.094735  ],\n",
              "       [0.09695789],\n",
              "       [0.09483491],\n",
              "       [0.09510965],\n",
              "       [0.09475998],\n",
              "       [0.10207803],\n",
              "       [0.10440082],\n",
              "       [0.10327689],\n",
              "       [0.10195314],\n",
              "       [0.10802238],\n",
              "       [0.11813777],\n",
              "       [0.12058544],\n",
              "       [0.11876218],\n",
              "       [0.12048554],\n",
              "       [0.12585544],\n",
              "       [0.12485639],\n",
              "       [0.12428193],\n",
              "       [0.11124432],\n",
              "       [0.11696388],\n",
              "       [0.11826265],\n",
              "       [0.12058544],\n",
              "       [0.12011089],\n",
              "       [0.11896199],\n",
              "       [0.12028573],\n",
              "       [0.11963635],\n",
              "       [0.1197862 ],\n",
              "       [0.11751336],\n",
              "       [0.11856237],\n",
              "       [0.12423198],\n",
              "       [0.12043559],\n",
              "       [0.12173435],\n",
              "       [0.12403217],\n",
              "       [0.12308307],\n",
              "       [0.10807233],\n",
              "       [0.09918078],\n",
              "       [0.102103  ],\n",
              "       [0.0985314 ],\n",
              "       [0.09635846],\n",
              "       [0.09131325],\n",
              "       [0.1014786 ],\n",
              "       [0.09815675],\n",
              "       [0.10030471],\n",
              "       [0.09970528],\n",
              "       [0.10132874],\n",
              "       [0.10017983],\n",
              "       [0.09495979],\n",
              "       [0.10020481],\n",
              "       [0.09483491],\n",
              "       [0.0956841 ],\n",
              "       [0.09438533],\n",
              "       [0.09585893],\n",
              "       [0.09246216],\n",
              "       [0.09608372],\n",
              "       [0.09828163],\n",
              "       [0.09945552],\n",
              "       [0.09998002],\n",
              "       [0.1050502 ],\n",
              "       [0.10822219],\n",
              "       [0.10952096],\n",
              "       [0.11081972],\n",
              "       [0.11316749],\n",
              "       [0.1114691 ],\n",
              "       [0.11129427],\n",
              "       [0.11583995],\n",
              "       [0.11746341],\n",
              "       [0.1192617 ],\n",
              "       [0.11201858],\n",
              "       [0.1093711 ],\n",
              "       [0.10744792],\n",
              "       [0.11074479],\n",
              "       [0.12845297],\n",
              "       [0.12453169],\n",
              "       [0.12657975],\n",
              "       [0.13262401],\n",
              "       [0.13579599],\n",
              "       [0.13824366],\n",
              "       [0.12390729],\n",
              "       [0.12930216],\n",
              "       [0.13522154],\n",
              "       [0.13959239],\n",
              "       [0.13796893],\n",
              "       [0.13025126],\n",
              "       [0.12935212],\n",
              "       [0.1286278 ],\n",
              "       [0.13504671],\n",
              "       [0.13554623],\n",
              "       [0.13377292],\n",
              "       [0.13524652],\n",
              "       [0.1392677 ],\n",
              "       [0.14286428],\n",
              "       [0.14396323],\n",
              "       [0.14558669],\n",
              "       [0.14571157],\n",
              "       [0.14079125],\n",
              "       [0.14036665],\n",
              "       [0.13874319],\n",
              "       [0.13217443],\n",
              "       [0.13934262],\n",
              "       [0.13774414],\n",
              "       [0.13472201],\n",
              "       [0.13130026],\n",
              "       [0.13529647],\n",
              "       [0.13227434],\n",
              "       [0.1324242 ],\n",
              "       [0.12578051],\n",
              "       [0.11908687],\n",
              "       [0.11534043],\n",
              "       [0.11199361],\n",
              "       [0.11846246],\n",
              "       [0.12118487],\n",
              "       [0.11881213],\n",
              "       [0.12091014],\n",
              "       [0.12013587],\n",
              "       [0.12180928],\n",
              "       [0.11931165],\n",
              "       [0.12408212],\n",
              "       [0.12385734],\n",
              "       [0.12520605],\n",
              "       [0.12535591],\n",
              "       [0.12697937],\n",
              "       [0.12560567],\n",
              "       [0.12807833],\n",
              "       [0.13529647],\n",
              "       [0.13677007],\n",
              "       [0.13499675],\n",
              "       [0.12555572],\n",
              "       [0.12623008],\n",
              "       [0.12603027],\n",
              "       [0.12835306],\n",
              "       [0.1266297 ],\n",
              "       [0.12912733],\n",
              "       [0.14321395],\n",
              "       [0.15238024],\n",
              "       [0.15817473],\n",
              "       [0.15280484],\n",
              "       [0.15585194],\n",
              "       [0.16681652],\n",
              "       [0.17118737],\n",
              "       [0.17258604],\n",
              "       [0.17615765],\n",
              "       [0.1752585 ],\n",
              "       [0.17223638],\n",
              "       [0.17048804],\n",
              "       [0.16391928],\n",
              "       [0.15827464],\n",
              "       [0.16331985],\n",
              "       [0.1609471 ],\n",
              "       [0.1605225 ],\n",
              "       [0.16841501],\n",
              "       [0.17296069],\n",
              "       [0.17298566],\n",
              "       [0.17078775],\n",
              "       [0.16824017],\n",
              "       [0.15927369],\n",
              "       [0.16519307],\n",
              "       [0.16319496],\n",
              "       [0.16007293],\n",
              "       [0.15967331],\n",
              "       [0.15809981],\n",
              "       [0.15887407],\n",
              "       [0.15899895],\n",
              "       [0.16724112],\n",
              "       [0.16481842],\n",
              "       [0.16624207],\n",
              "       [0.16611719],\n",
              "       [0.17048804],\n",
              "       [0.17660722],\n",
              "       [0.17191168],\n",
              "       [0.17143713],\n",
              "       [0.17308557],\n",
              "       [0.17308557],\n",
              "       [0.1619961 ],\n",
              "       [0.16207103],\n",
              "       [0.16326989],\n",
              "       [0.15864928],\n",
              "       [0.16621709],\n",
              "       [0.16614216],\n",
              "       [0.16814027],\n",
              "       [0.17306059],\n",
              "       [0.17143713],\n",
              "       [0.17138718],\n",
              "       [0.17128728],\n",
              "       [0.17375993],\n",
              "       [0.17828063],\n",
              "       [0.17603277],\n",
              "       [0.18330086],\n",
              "       [0.18370048],\n",
              "       [0.18170238],\n",
              "       [0.17805585],\n",
              "       [0.17815575],\n",
              "       [0.17111244],\n",
              "       [0.16334482],\n",
              "       [0.16434387],\n",
              "       [0.1554773 ],\n",
              "       [0.15300465],\n",
              "       [0.15415355],\n",
              "       [0.15502772],\n",
              "       [0.136845  ],\n",
              "       [0.12682951],\n",
              "       [0.14316399],\n",
              "       [0.13444728],\n",
              "       [0.12348269],\n",
              "       [0.1266297 ],\n",
              "       [0.14236475],\n",
              "       [0.14643589],\n",
              "       [0.1540037 ],\n",
              "       [0.16804036],\n",
              "       [0.16664169],\n",
              "       [0.16519307],\n",
              "       [0.16324492],\n",
              "       [0.16681652],\n",
              "       [0.17430941],\n",
              "       [0.18297617],\n",
              "       [0.18152755],\n",
              "       [0.18085319],\n",
              "       [0.17306059],\n",
              "       [0.17608272],\n",
              "       [0.17760627],\n",
              "       [0.17723163],\n",
              "       [0.17313552],\n",
              "       [0.17790599],\n",
              "       [0.18549878],\n",
              "       [0.18984465],\n",
              "       [0.1854738 ],\n",
              "       [0.18165243],\n",
              "       [0.18217693],\n",
              "       [0.18060343],\n",
              "       [0.17380988],\n",
              "       [0.17366002],\n",
              "       [0.16374444],\n",
              "       [0.15770018],\n",
              "       [0.14793446],\n",
              "       [0.16749088],\n",
              "       [0.15642639],\n",
              "       [0.15178081],\n",
              "       [0.15502772],\n",
              "       [0.15228033],\n",
              "       [0.15655128],\n",
              "       [0.16459364],\n",
              "       [0.16756581],\n",
              "       [0.1565263 ],\n",
              "       [0.16069734],\n",
              "       [0.16868974],\n",
              "       [0.16666667],\n",
              "       [0.17091263],\n",
              "       [0.17238623],\n",
              "       [0.17510865],\n",
              "       [0.1811529 ],\n",
              "       [0.18015385],\n",
              "       [0.16756581],\n",
              "       [0.14988261],\n",
              "       [0.14868375],\n",
              "       [0.14293921],\n",
              "       [0.14471252],\n",
              "       [0.14613617],\n",
              "       [0.14139068],\n",
              "       [0.1487337 ],\n",
              "       [0.15832459],\n",
              "       [0.17698187],\n",
              "       [0.17778111],\n",
              "       [0.19511464],\n",
              "       [0.19843649],\n",
              "       [0.20065937],\n",
              "       [0.20393127],\n",
              "       [0.21062491],\n",
              "       [0.20700335],\n",
              "       [0.20590439],\n",
              "       [0.20163345],\n",
              "       [0.20597932],\n",
              "       [0.20300714],\n",
              "       [0.20130876],\n",
              "       [0.20460562],\n",
              "       [0.20343174],\n",
              "       [0.20642889],\n",
              "       [0.20590439],\n",
              "       [0.20697837],\n",
              "       [0.20527998],\n",
              "       [0.20428093],\n",
              "       [0.20270743],\n",
              "       [0.21112443],\n",
              "       [0.21509566],\n",
              "       [0.21879215],\n",
              "       [0.22046556],\n",
              "       [0.21916679],\n",
              "       [0.21477097],\n",
              "       [0.21359708],\n",
              "       [0.21621959],\n",
              "       [0.21227334],\n",
              "       [0.2125231 ],\n",
              "       [0.20762775],\n",
              "       [0.20737799],\n",
              "       [0.19976023],\n",
              "       [0.20178331],\n",
              "       [0.19918577],\n",
              "       [0.19783705],\n",
              "       [0.19096858],\n",
              "       [0.19661322],\n",
              "       [0.19593886],\n",
              "       [0.19928568],\n",
              "       [0.1983116 ],\n",
              "       [0.20348169],\n",
              "       [0.19533943],\n",
              "       [0.19903592],\n",
              "       [0.20545482],\n",
              "       [0.21197363],\n",
              "       [0.21139917],\n",
              "       [0.20523003],\n",
              "       [0.21309756],\n",
              "       [0.21384685],\n",
              "       [0.21279784],\n",
              "       [0.21414656],\n",
              "       [0.21152405],\n",
              "       [0.21522054],\n",
              "       [0.21412158],\n",
              "       [0.21454618],\n",
              "       [0.21801788],\n",
              "       [0.22256356],\n",
              "       [0.22104001],\n",
              "       [0.21297268],\n",
              "       [0.21030021],\n",
              "       [0.21124931],\n",
              "       [0.23924771],\n",
              "       [0.25395874],\n",
              "       [0.25545732],\n",
              "       [0.25815475],\n",
              "       [0.2532594 ],\n",
              "       [0.25360907],\n",
              "       [0.2576802 ],\n",
              "       [0.25430841],\n",
              "       [0.25765523],\n",
              "       [0.25985314],\n",
              "       [0.26107698],\n",
              "       [0.26876967],\n",
              "       [0.27940956],\n",
              "       [0.27411459],\n",
              "       [0.27306559],\n",
              "       [0.27309056],\n",
              "       [0.27418952],\n",
              "       [0.27586293],\n",
              "       [0.28030871],\n",
              "       [0.28470453],\n",
              "       [0.29289675],\n",
              "       [0.29801688],\n",
              "       [0.30451071],\n",
              "       [0.30633398],\n",
              "       [0.30261252],\n",
              "       [0.29319646],\n",
              "       [0.28870073],\n",
              "       [0.28128278],\n",
              "       [0.29506968],\n",
              "       [0.28812628],\n",
              "       [0.30146361],\n",
              "       [0.29504471],\n",
              "       [0.28015885],\n",
              "       [0.28105799],\n",
              "       [0.28138269],\n",
              "       [0.28552875],\n",
              "       [0.27960937],\n",
              "       [0.28742694],\n",
              "       [0.29092362],\n",
              "       [0.28650282],\n",
              "       [0.29781707],\n",
              "       [0.2997902 ],\n",
              "       [0.30358659],\n",
              "       [0.3086318 ],\n",
              "       [0.31560018],\n",
              "       [0.30540986],\n",
              "       [0.29616864],\n",
              "       [0.29486987],\n",
              "       [0.30261252],\n",
              "       [0.27636246],\n",
              "       [0.27159199],\n",
              "       [0.29072381],\n",
              "       [0.27886008],\n",
              "       [0.29082372],\n",
              "       [0.288426  ],\n",
              "       [0.27551326],\n",
              "       [0.28373046],\n",
              "       [0.28707728],\n",
              "       [0.29227234],\n",
              "       [0.27319047],\n",
              "       [0.28495429],\n",
              "       [0.2762126 ],\n",
              "       [0.26607223],\n",
              "       [0.26871972],\n",
              "       [0.28260652],\n",
              "       [0.29099855],\n",
              "       [0.25418353],\n",
              "       [0.2394725 ],\n",
              "       [0.24491733],\n",
              "       [0.26035266],\n",
              "       [0.25670613],\n",
              "       [0.24666567],\n",
              "       [0.22094011],\n",
              "       [0.21609471],\n",
              "       [0.20253259],\n",
              "       [0.21404666],\n",
              "       [0.21934163],\n",
              "       [0.20018482],\n",
              "       [0.17800589],\n",
              "       [0.17750637],\n",
              "       [0.16629202],\n",
              "       [0.17211149],\n",
              "       [0.1711624 ],\n",
              "       [0.1878965 ],\n",
              "       [0.1844248 ],\n",
              "       [0.1820021 ],\n",
              "       [0.19758729],\n",
              "       [0.17728158],\n",
              "       [0.17236126],\n",
              "       [0.15680104],\n",
              "       [0.15957341],\n",
              "       [0.15715071],\n",
              "       [0.15832459],\n",
              "       [0.1629452 ],\n",
              "       [0.14928318],\n",
              "       [0.14543684],\n",
              "       [0.15075678],\n",
              "       [0.13781907],\n",
              "       [0.12767871],\n",
              "       [0.11244318],\n",
              "       [0.10270243],\n",
              "       [0.1285279 ],\n",
              "       [0.12598032],\n",
              "       [0.12618013],\n",
              "       [0.12995155],\n",
              "       [0.13040112],\n",
              "       [0.09111344],\n",
              "       [0.10627404],\n",
              "       [0.10544982],\n",
              "       [0.11249313],\n",
              "       [0.11888706],\n",
              "       [0.12011089],\n",
              "       [0.11633948],\n",
              "       [0.11061991],\n",
              "       [0.11828763],\n",
              "       [0.12295819],\n",
              "       [0.12525601],\n",
              "       [0.12765373],\n",
              "       [0.11886208],\n",
              "       [0.12041061],\n",
              "       [0.1173635 ],\n",
              "       [0.1300015 ],\n",
              "       [0.12635496],\n",
              "       [0.12230881],\n",
              "       [0.14870873],\n",
              "       [0.1516809 ],\n",
              "       [0.15188071],\n",
              "       [0.16369449],\n",
              "       [0.17101254],\n",
              "       [0.1711624 ],\n",
              "       [0.16292023],\n",
              "       [0.16159648],\n",
              "       [0.15914881],\n",
              "       [0.16279534],\n",
              "       [0.16102203],\n",
              "       [0.16257056],\n",
              "       [0.16162146],\n",
              "       [0.16289525],\n",
              "       [0.16564264],\n",
              "       [0.16321994],\n",
              "       [0.16799041],\n",
              "       [0.17113742],\n",
              "       [0.17138718],\n",
              "       [0.1727359 ],\n",
              "       [0.16843998],\n",
              "       [0.17298566],\n",
              "       [0.17518358],\n",
              "       [0.17438433],\n",
              "       [0.17186173],\n",
              "       [0.16681652],\n",
              "       [0.16784055],\n",
              "       [0.18280134],\n",
              "       [0.18782157],\n",
              "       [0.18981967],\n",
              "       [0.19486488],\n",
              "       [0.20083421],\n",
              "       [0.2055797 ],\n",
              "       [0.20185823],\n",
              "       [0.20592937],\n",
              "       [0.22323792],\n",
              "       [0.21314751],\n",
              "       [0.20737799],\n",
              "       [0.20250762],\n",
              "       [0.20670363],\n",
              "       [0.20732804],\n",
              "       [0.21040012],\n",
              "       [0.21362206],\n",
              "       [0.22056546],\n",
              "       [0.22388731],\n",
              "       [0.2247365 ],\n",
              "       [0.22800839],\n",
              "       [0.23575104],\n",
              "       [0.23425246],\n",
              "       [0.2370498 ],\n",
              "       [0.23287877],\n",
              "       [0.23267895],\n",
              "       [0.2335781 ],\n",
              "       [0.23362805],\n",
              "       [0.24331885],\n",
              "       [0.24514211],\n",
              "       [0.24681553],\n",
              "       [0.25418353],\n",
              "       [0.25338428],\n",
              "       [0.24868875],\n",
              "       [0.24624107],\n",
              "       [0.24701534],\n",
              "       [0.23717468],\n",
              "       [0.26177631],\n",
              "       [0.25835456],\n",
              "       [0.26484839],\n",
              "       [0.25668115],\n",
              "       [0.24264449],\n",
              "       [0.24274439],\n",
              "       [0.23729957],\n",
              "       [0.22845796],\n",
              "       [0.19983516],\n",
              "       [0.20717818],\n",
              "       [0.21282282],\n",
              "       [0.21072481],\n",
              "       [0.20802737],\n",
              "       [0.1932664 ],\n",
              "       [0.20203307],\n",
              "       [0.19249213],\n",
              "       [0.18469954],\n",
              "       [0.18297617],\n",
              "       [0.18112793],\n",
              "       [0.17900495],\n",
              "       [0.18130276],\n",
              "       [0.17323543],\n",
              "       [0.16881463],\n",
              "       [0.18464958],\n",
              "       [0.1918927 ],\n",
              "       [0.19858634],\n",
              "       [0.21089965],\n",
              "       [0.21696888],\n",
              "       [0.22253859],\n",
              "       [0.22099006],\n",
              "       [0.22089015],\n",
              "       [0.2173685 ],\n",
              "       [0.22024077],\n",
              "       [0.23162995],\n",
              "       [0.23018133],\n",
              "       [0.23415256],\n",
              "       [0.23245417],\n",
              "       [0.23195464],\n",
              "       [0.22443679],\n",
              "       [0.23500175],\n",
              "       [0.23485189],\n",
              "       [0.23030621],\n",
              "       [0.2393726 ],\n",
              "       [0.2423198 ],\n",
              "       [0.24651581],\n",
              "       [0.24606624],\n",
              "       [0.23555123],\n",
              "       [0.23859833],\n",
              "       [0.24356861],\n",
              "       [0.23987212],\n",
              "       [0.24374344],\n",
              "       [0.24851391],\n",
              "       [0.2467406 ],\n",
              "       [0.24386833],\n",
              "       [0.24963784],\n",
              "       [0.24197013],\n",
              "       [0.25353414],\n",
              "       [0.2575803 ],\n",
              "       [0.2571557 ],\n",
              "       [0.25303462],\n",
              "       [0.25483291],\n",
              "       [0.25967831],\n",
              "       [0.25743044],\n",
              "       [0.26807033],\n",
              "       [0.25655627],\n",
              "       [0.24554174],\n",
              "       [0.21886708],\n",
              "       [0.22800839],\n",
              "       [0.23310355],\n",
              "       [0.24406814],\n",
              "       [0.23797392],\n",
              "       [0.23670013],\n",
              "       [0.25790499],\n",
              "       [0.24236975],\n",
              "       [0.23984715],\n",
              "       [0.25173585],\n",
              "       [0.26135172],\n",
              "       [0.26137669],\n",
              "       [0.26707128],\n",
              "       [0.26662171],\n",
              "       [0.24209501],\n",
              "       [0.25171087],\n",
              "       [0.2458914 ],\n",
              "       [0.24931315],\n",
              "       [0.2580049 ],\n",
              "       [0.25733054],\n",
              "       [0.24973775],\n",
              "       [0.25845447],\n",
              "       [0.26866976],\n",
              "       [0.26861981],\n",
              "       [0.27089265],\n",
              "       [0.27721165],\n",
              "       [0.2944203 ],\n",
              "       [0.29317149],\n",
              "       [0.28233178],\n",
              "       [0.28520406],\n",
              "       [0.28720216],\n",
              "       [0.29237225],\n",
              "       [0.28785154],\n",
              "       [0.27978421],\n",
              "       [0.28225686],\n",
              "       [0.27965932],\n",
              "       [0.28802637],\n",
              "       [0.28517908],\n",
              "       [0.28250662],\n",
              "       [0.2953694 ],\n",
              "       [0.29691793],\n",
              "       [0.28285629],\n",
              "       [0.28750187],\n",
              "       [0.30296219],\n",
              "       [0.30308707],\n",
              "       [0.29644338],\n",
              "       [0.30301214],\n",
              "       [0.31065488],\n",
              "       [0.32594036],\n",
              "       [0.32509116],\n",
              "       [0.32371747],\n",
              "       [0.32134472],\n",
              "       [0.32361756],\n",
              "       [0.32643988],\n",
              "       [0.33668015],\n",
              "       [0.33530646],\n",
              "       [0.34334882],\n",
              "       [0.34434787],\n",
              "       [0.35184075],\n",
              "       [0.35800989],\n",
              "       [0.34362356],\n",
              "       [0.34354863],\n",
              "       [0.35728558],\n",
              "       [0.37491883],\n",
              "       [0.37911484],\n",
              "       [0.37819072],\n",
              "       [0.37846546],\n",
              "       [0.38393526],\n",
              "       [0.38570858],\n",
              "       [0.39085369],\n",
              "       [0.39025426],\n",
              "       [0.3965233 ],\n",
              "       [0.39195264],\n",
              "       [0.39974524],\n",
              "       [0.40309206],\n",
              "       [0.40106898],\n",
              "       [0.39332634],\n",
              "       [0.39037914],\n",
              "       [0.38980469],\n",
              "       [0.40126879],\n",
              "       [0.39607373],\n",
              "       [0.40494031],\n",
              "       [0.40346671],\n",
              "       [0.39574904],\n",
              "       [0.38398521],\n",
              "       [0.38970478],\n",
              "       [0.39929567],\n",
              "       [0.4121085 ],\n",
              "       [0.40264249],\n",
              "       [0.40653879],\n",
              "       [0.41225835],\n",
              "       [0.41398172],\n",
              "       [0.42319796],\n",
              "       [0.43496179],\n",
              "       [0.43633548],\n",
              "       [0.43466207],\n",
              "       [0.43536141],\n",
              "       [0.43391278],\n",
              "       [0.44530196],\n",
              "       [0.44597632],\n",
              "       [0.46006294],\n",
              "       [0.4597882 ],\n",
              "       [0.46408412],\n",
              "       [0.46940407],\n",
              "       [0.48613817],\n",
              "       [0.4788451 ],\n",
              "       [0.48476447]])"
            ]
          },
          "metadata": {},
          "execution_count": 26
        }
      ]
    },
    {
      "cell_type": "code",
      "metadata": {
        "id": "tdEDnbC4X2qG"
      },
      "source": [
        "import numpy\n",
        "# convert an array of values into a dataset matrix\n",
        "def create_dataset(dataset, time_step=1):\n",
        "\tdataX, dataY = [], []\n",
        "\tfor i in range(len(dataset)-time_step-1):\n",
        "\t\ta = dataset[i:(i+time_step), 0]   ###i=0, 0,1,2,3-----99   100 \n",
        "\t\tdataX.append(a)\n",
        "\t\tdataY.append(dataset[i + time_step, 0])\n",
        "\treturn numpy.array(dataX), numpy.array(dataY)"
      ],
      "execution_count": 27,
      "outputs": []
    },
    {
      "cell_type": "code",
      "metadata": {
        "id": "-eC3D9g5YFIt"
      },
      "source": [
        "# reshape into X=t,t+1,t+2,t+3 and Y=t+4\n",
        "time_step = 100\n",
        "X_train, y_train = create_dataset(train_data, time_step)\n",
        "X_test, ytest = create_dataset(test_data, time_step)"
      ],
      "execution_count": 28,
      "outputs": []
    },
    {
      "cell_type": "code",
      "metadata": {
        "colab": {
          "base_uri": "https://localhost:8080/"
        },
        "id": "BxzjwwDwYSEb",
        "outputId": "75703be3-a46a-4d3d-e7e5-0b4e3d77380f"
      },
      "source": [
        "print(X_train.shape), print(y_train.shape)"
      ],
      "execution_count": 29,
      "outputs": [
        {
          "output_type": "stream",
          "name": "stdout",
          "text": [
            "(716, 100)\n",
            "(716,)\n"
          ]
        },
        {
          "output_type": "execute_result",
          "data": {
            "text/plain": [
              "(None, None)"
            ]
          },
          "metadata": {},
          "execution_count": 29
        }
      ]
    },
    {
      "cell_type": "code",
      "metadata": {
        "colab": {
          "base_uri": "https://localhost:8080/"
        },
        "id": "BYoTDedJYWAj",
        "outputId": "0b37f391-2e32-45fd-a9c5-1c73e3760caa"
      },
      "source": [
        "print(X_test.shape), print(ytest.shape)"
      ],
      "execution_count": 30,
      "outputs": [
        {
          "output_type": "stream",
          "name": "stdout",
          "text": [
            "(339, 100)\n",
            "(339,)\n"
          ]
        },
        {
          "output_type": "execute_result",
          "data": {
            "text/plain": [
              "(None, None)"
            ]
          },
          "metadata": {},
          "execution_count": 30
        }
      ]
    },
    {
      "cell_type": "code",
      "metadata": {
        "id": "n_jVgvgiYkyQ"
      },
      "source": [
        "# reshape input to be [samples, time steps, features] which is required for LSTM\n",
        "X_train =X_train.reshape(X_train.shape[0],X_train.shape[1] , 1)\n",
        "X_test = X_test.reshape(X_test.shape[0],X_test.shape[1] , 1)"
      ],
      "execution_count": 31,
      "outputs": []
    },
    {
      "cell_type": "code",
      "metadata": {
        "id": "ZvS2jrWAZGzl"
      },
      "source": [
        "### Create the Stacked LSTM model\n",
        "from tensorflow.keras.models import Sequential\n",
        "from tensorflow.keras.layers import Dense\n",
        "from tensorflow.keras.layers import LSTM"
      ],
      "execution_count": 32,
      "outputs": []
    },
    {
      "cell_type": "code",
      "metadata": {
        "id": "bmtfTnvnZJvX"
      },
      "source": [
        "model=Sequential()\n",
        "model.add(LSTM(50,return_sequences=True,input_shape=(100,1)))\n",
        "model.add(LSTM(50,return_sequences=True))\n",
        "model.add(LSTM(50))\n",
        "model.add(Dense(1))\n",
        "model.compile(loss='mean_squared_error',optimizer='adam')\n"
      ],
      "execution_count": 33,
      "outputs": []
    },
    {
      "cell_type": "code",
      "metadata": {
        "colab": {
          "base_uri": "https://localhost:8080/"
        },
        "id": "7gGDq-X4ZNUf",
        "outputId": "dc01cde6-1374-4afc-ecdd-a8a4e4a241ce"
      },
      "source": [
        "model.summary()"
      ],
      "execution_count": 34,
      "outputs": [
        {
          "output_type": "stream",
          "name": "stdout",
          "text": [
            "Model: \"sequential\"\n",
            "_________________________________________________________________\n",
            "Layer (type)                 Output Shape              Param #   \n",
            "=================================================================\n",
            "lstm (LSTM)                  (None, 100, 50)           10400     \n",
            "_________________________________________________________________\n",
            "lstm_1 (LSTM)                (None, 100, 50)           20200     \n",
            "_________________________________________________________________\n",
            "lstm_2 (LSTM)                (None, 50)                20200     \n",
            "_________________________________________________________________\n",
            "dense (Dense)                (None, 1)                 51        \n",
            "=================================================================\n",
            "Total params: 50,851\n",
            "Trainable params: 50,851\n",
            "Non-trainable params: 0\n",
            "_________________________________________________________________\n"
          ]
        }
      ]
    },
    {
      "cell_type": "code",
      "metadata": {
        "colab": {
          "base_uri": "https://localhost:8080/"
        },
        "id": "bwJyUGSHZcR5",
        "outputId": "b5a369e7-cc42-4ca6-ee37-2a14ddf521aa"
      },
      "source": [
        "model.summary()"
      ],
      "execution_count": 35,
      "outputs": [
        {
          "output_type": "stream",
          "name": "stdout",
          "text": [
            "Model: \"sequential\"\n",
            "_________________________________________________________________\n",
            "Layer (type)                 Output Shape              Param #   \n",
            "=================================================================\n",
            "lstm (LSTM)                  (None, 100, 50)           10400     \n",
            "_________________________________________________________________\n",
            "lstm_1 (LSTM)                (None, 100, 50)           20200     \n",
            "_________________________________________________________________\n",
            "lstm_2 (LSTM)                (None, 50)                20200     \n",
            "_________________________________________________________________\n",
            "dense (Dense)                (None, 1)                 51        \n",
            "=================================================================\n",
            "Total params: 50,851\n",
            "Trainable params: 50,851\n",
            "Non-trainable params: 0\n",
            "_________________________________________________________________\n"
          ]
        }
      ]
    },
    {
      "cell_type": "code",
      "metadata": {
        "colab": {
          "base_uri": "https://localhost:8080/"
        },
        "id": "0C1XJpw4ZiSS",
        "outputId": "2d510fc6-8bb6-45c2-fd52-5610c6d60cb9"
      },
      "source": [
        "model.fit(X_train,y_train,validation_data=(X_test,ytest),epochs=100,batch_size=64,verbose=1)"
      ],
      "execution_count": 36,
      "outputs": [
        {
          "output_type": "stream",
          "name": "stdout",
          "text": [
            "Epoch 1/100\n",
            "12/12 [==============================] - 8s 306ms/step - loss: 0.0119 - val_loss: 0.0314\n",
            "Epoch 2/100\n",
            "12/12 [==============================] - 2s 192ms/step - loss: 0.0031 - val_loss: 0.0243\n",
            "Epoch 3/100\n",
            "12/12 [==============================] - 2s 192ms/step - loss: 0.0015 - val_loss: 0.0202\n",
            "Epoch 4/100\n",
            "12/12 [==============================] - 2s 193ms/step - loss: 6.9995e-04 - val_loss: 0.0203\n",
            "Epoch 5/100\n",
            "12/12 [==============================] - 2s 189ms/step - loss: 4.9637e-04 - val_loss: 0.0253\n",
            "Epoch 6/100\n",
            "12/12 [==============================] - 2s 189ms/step - loss: 4.5592e-04 - val_loss: 0.0241\n",
            "Epoch 7/100\n",
            "12/12 [==============================] - 2s 193ms/step - loss: 4.2156e-04 - val_loss: 0.0220\n",
            "Epoch 8/100\n",
            "12/12 [==============================] - 2s 192ms/step - loss: 4.1729e-04 - val_loss: 0.0224\n",
            "Epoch 9/100\n",
            "12/12 [==============================] - 2s 193ms/step - loss: 3.8256e-04 - val_loss: 0.0235\n",
            "Epoch 10/100\n",
            "12/12 [==============================] - 2s 193ms/step - loss: 3.7516e-04 - val_loss: 0.0233\n",
            "Epoch 11/100\n",
            "12/12 [==============================] - 2s 192ms/step - loss: 3.5442e-04 - val_loss: 0.0230\n",
            "Epoch 12/100\n",
            "12/12 [==============================] - 2s 190ms/step - loss: 3.4076e-04 - val_loss: 0.0225\n",
            "Epoch 13/100\n",
            "12/12 [==============================] - 2s 190ms/step - loss: 3.2700e-04 - val_loss: 0.0215\n",
            "Epoch 14/100\n",
            "12/12 [==============================] - 2s 188ms/step - loss: 3.1246e-04 - val_loss: 0.0219\n",
            "Epoch 15/100\n",
            "12/12 [==============================] - 2s 190ms/step - loss: 3.1350e-04 - val_loss: 0.0255\n",
            "Epoch 16/100\n",
            "12/12 [==============================] - 2s 193ms/step - loss: 3.3296e-04 - val_loss: 0.0208\n",
            "Epoch 17/100\n",
            "12/12 [==============================] - 2s 193ms/step - loss: 2.9956e-04 - val_loss: 0.0248\n",
            "Epoch 18/100\n",
            "12/12 [==============================] - 2s 196ms/step - loss: 3.2533e-04 - val_loss: 0.0217\n",
            "Epoch 19/100\n",
            "12/12 [==============================] - 2s 193ms/step - loss: 3.0223e-04 - val_loss: 0.0223\n",
            "Epoch 20/100\n",
            "12/12 [==============================] - 2s 197ms/step - loss: 2.9045e-04 - val_loss: 0.0240\n",
            "Epoch 21/100\n",
            "12/12 [==============================] - 2s 197ms/step - loss: 2.7167e-04 - val_loss: 0.0242\n",
            "Epoch 22/100\n",
            "12/12 [==============================] - 2s 192ms/step - loss: 2.6034e-04 - val_loss: 0.0217\n",
            "Epoch 23/100\n",
            "12/12 [==============================] - 2s 193ms/step - loss: 2.6475e-04 - val_loss: 0.0239\n",
            "Epoch 24/100\n",
            "12/12 [==============================] - 2s 192ms/step - loss: 2.5265e-04 - val_loss: 0.0244\n",
            "Epoch 25/100\n",
            "12/12 [==============================] - 2s 192ms/step - loss: 2.4764e-04 - val_loss: 0.0215\n",
            "Epoch 26/100\n",
            "12/12 [==============================] - 2s 192ms/step - loss: 2.8655e-04 - val_loss: 0.0225\n",
            "Epoch 27/100\n",
            "12/12 [==============================] - 2s 194ms/step - loss: 2.6377e-04 - val_loss: 0.0228\n",
            "Epoch 28/100\n",
            "12/12 [==============================] - 2s 198ms/step - loss: 2.4253e-04 - val_loss: 0.0219\n",
            "Epoch 29/100\n",
            "12/12 [==============================] - 2s 195ms/step - loss: 2.3724e-04 - val_loss: 0.0231\n",
            "Epoch 30/100\n",
            "12/12 [==============================] - 2s 194ms/step - loss: 2.3396e-04 - val_loss: 0.0210\n",
            "Epoch 31/100\n",
            "12/12 [==============================] - 2s 198ms/step - loss: 2.4306e-04 - val_loss: 0.0235\n",
            "Epoch 32/100\n",
            "12/12 [==============================] - 2s 198ms/step - loss: 2.2932e-04 - val_loss: 0.0206\n",
            "Epoch 33/100\n",
            "12/12 [==============================] - 2s 199ms/step - loss: 2.3146e-04 - val_loss: 0.0216\n",
            "Epoch 34/100\n",
            "12/12 [==============================] - 2s 205ms/step - loss: 2.3279e-04 - val_loss: 0.0243\n",
            "Epoch 35/100\n",
            "12/12 [==============================] - 2s 202ms/step - loss: 2.5975e-04 - val_loss: 0.0223\n",
            "Epoch 36/100\n",
            "12/12 [==============================] - 2s 203ms/step - loss: 2.4687e-04 - val_loss: 0.0183\n",
            "Epoch 37/100\n",
            "12/12 [==============================] - 2s 198ms/step - loss: 2.2658e-04 - val_loss: 0.0204\n",
            "Epoch 38/100\n",
            "12/12 [==============================] - 2s 196ms/step - loss: 2.1448e-04 - val_loss: 0.0212\n",
            "Epoch 39/100\n",
            "12/12 [==============================] - 2s 201ms/step - loss: 2.1923e-04 - val_loss: 0.0209\n",
            "Epoch 40/100\n",
            "12/12 [==============================] - 2s 200ms/step - loss: 2.1143e-04 - val_loss: 0.0194\n",
            "Epoch 41/100\n",
            "12/12 [==============================] - 2s 195ms/step - loss: 2.2215e-04 - val_loss: 0.0205\n",
            "Epoch 42/100\n",
            "12/12 [==============================] - 2s 201ms/step - loss: 2.0304e-04 - val_loss: 0.0203\n",
            "Epoch 43/100\n",
            "12/12 [==============================] - 2s 200ms/step - loss: 2.1589e-04 - val_loss: 0.0184\n",
            "Epoch 44/100\n",
            "12/12 [==============================] - 2s 203ms/step - loss: 2.0946e-04 - val_loss: 0.0221\n",
            "Epoch 45/100\n",
            "12/12 [==============================] - 2s 200ms/step - loss: 2.1006e-04 - val_loss: 0.0202\n",
            "Epoch 46/100\n",
            "12/12 [==============================] - 2s 198ms/step - loss: 2.0013e-04 - val_loss: 0.0189\n",
            "Epoch 47/100\n",
            "12/12 [==============================] - 2s 200ms/step - loss: 1.9535e-04 - val_loss: 0.0182\n",
            "Epoch 48/100\n",
            "12/12 [==============================] - 2s 204ms/step - loss: 2.2481e-04 - val_loss: 0.0227\n",
            "Epoch 49/100\n",
            "12/12 [==============================] - 2s 197ms/step - loss: 2.3566e-04 - val_loss: 0.0191\n",
            "Epoch 50/100\n",
            "12/12 [==============================] - 2s 197ms/step - loss: 2.2257e-04 - val_loss: 0.0179\n",
            "Epoch 51/100\n",
            "12/12 [==============================] - 2s 194ms/step - loss: 1.9300e-04 - val_loss: 0.0189\n",
            "Epoch 52/100\n",
            "12/12 [==============================] - 2s 198ms/step - loss: 1.8784e-04 - val_loss: 0.0177\n",
            "Epoch 53/100\n",
            "12/12 [==============================] - 2s 200ms/step - loss: 1.9215e-04 - val_loss: 0.0188\n",
            "Epoch 54/100\n",
            "12/12 [==============================] - 2s 195ms/step - loss: 1.8241e-04 - val_loss: 0.0181\n",
            "Epoch 55/100\n",
            "12/12 [==============================] - 2s 197ms/step - loss: 1.8020e-04 - val_loss: 0.0196\n",
            "Epoch 56/100\n",
            "12/12 [==============================] - 2s 197ms/step - loss: 1.8539e-04 - val_loss: 0.0160\n",
            "Epoch 57/100\n",
            "12/12 [==============================] - 2s 199ms/step - loss: 2.1466e-04 - val_loss: 0.0158\n",
            "Epoch 58/100\n",
            "12/12 [==============================] - 2s 194ms/step - loss: 2.1075e-04 - val_loss: 0.0173\n",
            "Epoch 59/100\n",
            "12/12 [==============================] - 2s 196ms/step - loss: 1.9163e-04 - val_loss: 0.0173\n",
            "Epoch 60/100\n",
            "12/12 [==============================] - 2s 202ms/step - loss: 1.7964e-04 - val_loss: 0.0174\n",
            "Epoch 61/100\n",
            "12/12 [==============================] - 2s 199ms/step - loss: 1.8235e-04 - val_loss: 0.0147\n",
            "Epoch 62/100\n",
            "12/12 [==============================] - 2s 200ms/step - loss: 1.8864e-04 - val_loss: 0.0168\n",
            "Epoch 63/100\n",
            "12/12 [==============================] - 2s 200ms/step - loss: 1.7287e-04 - val_loss: 0.0150\n",
            "Epoch 64/100\n",
            "12/12 [==============================] - 2s 196ms/step - loss: 1.7460e-04 - val_loss: 0.0157\n",
            "Epoch 65/100\n",
            "12/12 [==============================] - 2s 195ms/step - loss: 1.6874e-04 - val_loss: 0.0152\n",
            "Epoch 66/100\n",
            "12/12 [==============================] - 2s 199ms/step - loss: 1.6658e-04 - val_loss: 0.0151\n",
            "Epoch 67/100\n",
            "12/12 [==============================] - 2s 196ms/step - loss: 1.6383e-04 - val_loss: 0.0152\n",
            "Epoch 68/100\n",
            "12/12 [==============================] - 2s 196ms/step - loss: 1.7540e-04 - val_loss: 0.0164\n",
            "Epoch 69/100\n",
            "12/12 [==============================] - 2s 195ms/step - loss: 1.6323e-04 - val_loss: 0.0173\n",
            "Epoch 70/100\n",
            "12/12 [==============================] - 2s 193ms/step - loss: 1.6650e-04 - val_loss: 0.0155\n",
            "Epoch 71/100\n",
            "12/12 [==============================] - 2s 197ms/step - loss: 1.6439e-04 - val_loss: 0.0155\n",
            "Epoch 72/100\n",
            "12/12 [==============================] - 2s 195ms/step - loss: 1.6288e-04 - val_loss: 0.0136\n",
            "Epoch 73/100\n",
            "12/12 [==============================] - 2s 197ms/step - loss: 1.7246e-04 - val_loss: 0.0194\n",
            "Epoch 74/100\n",
            "12/12 [==============================] - 2s 197ms/step - loss: 1.7667e-04 - val_loss: 0.0151\n",
            "Epoch 75/100\n",
            "12/12 [==============================] - 2s 198ms/step - loss: 1.6245e-04 - val_loss: 0.0143\n",
            "Epoch 76/100\n",
            "12/12 [==============================] - 2s 196ms/step - loss: 1.5262e-04 - val_loss: 0.0154\n",
            "Epoch 77/100\n",
            "12/12 [==============================] - 2s 197ms/step - loss: 1.5605e-04 - val_loss: 0.0151\n",
            "Epoch 78/100\n",
            "12/12 [==============================] - 2s 195ms/step - loss: 1.5714e-04 - val_loss: 0.0120\n",
            "Epoch 79/100\n",
            "12/12 [==============================] - 2s 198ms/step - loss: 1.5634e-04 - val_loss: 0.0144\n",
            "Epoch 80/100\n",
            "12/12 [==============================] - 2s 196ms/step - loss: 1.7893e-04 - val_loss: 0.0171\n",
            "Epoch 81/100\n",
            "12/12 [==============================] - 2s 198ms/step - loss: 2.2113e-04 - val_loss: 0.0136\n",
            "Epoch 82/100\n",
            "12/12 [==============================] - 2s 197ms/step - loss: 1.9874e-04 - val_loss: 0.0106\n",
            "Epoch 83/100\n",
            "12/12 [==============================] - 2s 194ms/step - loss: 1.6811e-04 - val_loss: 0.0122\n",
            "Epoch 84/100\n",
            "12/12 [==============================] - 2s 195ms/step - loss: 1.5082e-04 - val_loss: 0.0131\n",
            "Epoch 85/100\n",
            "12/12 [==============================] - 2s 197ms/step - loss: 1.6095e-04 - val_loss: 0.0114\n",
            "Epoch 86/100\n",
            "12/12 [==============================] - 2s 198ms/step - loss: 1.4389e-04 - val_loss: 0.0123\n",
            "Epoch 87/100\n",
            "12/12 [==============================] - 2s 199ms/step - loss: 1.3727e-04 - val_loss: 0.0114\n",
            "Epoch 88/100\n",
            "12/12 [==============================] - 2s 200ms/step - loss: 1.4427e-04 - val_loss: 0.0108\n",
            "Epoch 89/100\n",
            "12/12 [==============================] - 2s 200ms/step - loss: 1.8267e-04 - val_loss: 0.0152\n",
            "Epoch 90/100\n",
            "12/12 [==============================] - 2s 197ms/step - loss: 1.5809e-04 - val_loss: 0.0117\n",
            "Epoch 91/100\n",
            "12/12 [==============================] - 2s 199ms/step - loss: 1.2995e-04 - val_loss: 0.0127\n",
            "Epoch 92/100\n",
            "12/12 [==============================] - 2s 201ms/step - loss: 1.3424e-04 - val_loss: 0.0099\n",
            "Epoch 93/100\n",
            "12/12 [==============================] - 2s 200ms/step - loss: 1.5865e-04 - val_loss: 0.0132\n",
            "Epoch 94/100\n",
            "12/12 [==============================] - 2s 199ms/step - loss: 1.4128e-04 - val_loss: 0.0112\n",
            "Epoch 95/100\n",
            "12/12 [==============================] - 2s 201ms/step - loss: 1.2719e-04 - val_loss: 0.0120\n",
            "Epoch 96/100\n",
            "12/12 [==============================] - 2s 196ms/step - loss: 1.4385e-04 - val_loss: 0.0099\n",
            "Epoch 97/100\n",
            "12/12 [==============================] - 2s 196ms/step - loss: 1.2633e-04 - val_loss: 0.0116\n",
            "Epoch 98/100\n",
            "12/12 [==============================] - 2s 198ms/step - loss: 1.2433e-04 - val_loss: 0.0102\n",
            "Epoch 99/100\n",
            "12/12 [==============================] - 2s 196ms/step - loss: 1.3018e-04 - val_loss: 0.0120\n",
            "Epoch 100/100\n",
            "12/12 [==============================] - 2s 198ms/step - loss: 1.3179e-04 - val_loss: 0.0093\n"
          ]
        },
        {
          "output_type": "execute_result",
          "data": {
            "text/plain": [
              "<keras.callbacks.History at 0x7fb93b15a650>"
            ]
          },
          "metadata": {},
          "execution_count": 36
        }
      ]
    },
    {
      "cell_type": "code",
      "metadata": {
        "id": "4NpJqO22Zpml"
      },
      "source": [
        "import tensorflow as tf"
      ],
      "execution_count": 37,
      "outputs": []
    },
    {
      "cell_type": "code",
      "metadata": {
        "colab": {
          "base_uri": "https://localhost:8080/",
          "height": 35
        },
        "id": "L2Ax4rfRbGsu",
        "outputId": "a64a87d6-e8f3-4811-b890-995b9693f47f"
      },
      "source": [
        "tf.__version__"
      ],
      "execution_count": 38,
      "outputs": [
        {
          "output_type": "execute_result",
          "data": {
            "application/vnd.google.colaboratory.intrinsic+json": {
              "type": "string"
            },
            "text/plain": [
              "'2.6.0'"
            ]
          },
          "metadata": {},
          "execution_count": 38
        }
      ]
    },
    {
      "cell_type": "code",
      "metadata": {
        "id": "_mnqPOpHbJgg"
      },
      "source": [
        "### Lets Do the prediction and check performance metrics\n",
        "train_predict=model.predict(X_train)\n",
        "test_predict=model.predict(X_test)"
      ],
      "execution_count": 39,
      "outputs": []
    },
    {
      "cell_type": "code",
      "metadata": {
        "id": "12JzUQv4bNNQ"
      },
      "source": [
        "##Transformback to original form\n",
        "train_predict=scaler.inverse_transform(train_predict)\n",
        "test_predict=scaler.inverse_transform(test_predict)"
      ],
      "execution_count": 40,
      "outputs": []
    },
    {
      "cell_type": "code",
      "metadata": {
        "colab": {
          "base_uri": "https://localhost:8080/"
        },
        "id": "dZgDT-uJbQ52",
        "outputId": "1c7ab923-b3f5-434f-b5e2-de92e9185524"
      },
      "source": [
        "### Calculate RMSE performance metrics\n",
        "import math\n",
        "from sklearn.metrics import mean_squared_error\n",
        "math.sqrt(mean_squared_error(y_train,train_predict))"
      ],
      "execution_count": 41,
      "outputs": [
        {
          "output_type": "execute_result",
          "data": {
            "text/plain": [
              "188.12388211802315"
            ]
          },
          "metadata": {},
          "execution_count": 41
        }
      ]
    },
    {
      "cell_type": "code",
      "metadata": {
        "colab": {
          "base_uri": "https://localhost:8080/"
        },
        "id": "XaQHIVZxbUhP",
        "outputId": "6a06999b-c0b4-4fe1-afa7-102181e8b2f2"
      },
      "source": [
        "### Test Data RMSE\n",
        "math.sqrt(mean_squared_error(ytest,test_predict))"
      ],
      "execution_count": 42,
      "outputs": [
        {
          "output_type": "execute_result",
          "data": {
            "text/plain": [
              "223.79474090300047"
            ]
          },
          "metadata": {},
          "execution_count": 42
        }
      ]
    },
    {
      "cell_type": "code",
      "metadata": {
        "colab": {
          "base_uri": "https://localhost:8080/",
          "height": 267
        },
        "id": "JQQxEyICbaAO",
        "outputId": "1975832d-8011-4df8-c5d2-ca91ae2f90c5"
      },
      "source": [
        "### Plotting \n",
        "# shift train predictions for plotting\n",
        "look_back=100\n",
        "trainPredictPlot = numpy.empty_like(df1)\n",
        "trainPredictPlot[:, :] = np.nan\n",
        "trainPredictPlot[look_back:len(train_predict)+look_back, :] = train_predict\n",
        "# shift test predictions for plotting\n",
        "testPredictPlot = numpy.empty_like(df1)\n",
        "testPredictPlot[:, :] = numpy.nan\n",
        "testPredictPlot[len(train_predict)+(look_back*2)+1:len(df1)-1, :] = test_predict\n",
        "# plot baseline and predictions\n",
        "plt.plot(scaler.inverse_transform(df1))\n",
        "plt.plot(trainPredictPlot)\n",
        "plt.plot(testPredictPlot)\n",
        "plt.show()"
      ],
      "execution_count": 43,
      "outputs": [
        {
          "output_type": "display_data",
          "data": {
            "image/png": "[encoded data removed]",
            "text/plain": [
              "<Figure size 432x288 with 1 Axes>"
            ]
          },
          "metadata": {
            "needs_background": "light"
          }
        }
      ]
    },
    {
      "cell_type": "code",
      "metadata": {
        "colab": {
          "base_uri": "https://localhost:8080/"
        },
        "id": "IZSRnXbFbeM3",
        "outputId": "ece878f6-fe44-4fe1-ae83-00efc693e436"
      },
      "source": [
        "len(test_data)"
      ],
      "execution_count": 44,
      "outputs": [
        {
          "output_type": "execute_result",
          "data": {
            "text/plain": [
              "440"
            ]
          },
          "metadata": {},
          "execution_count": 44
        }
      ]
    },
    {
      "cell_type": "code",
      "metadata": {
        "colab": {
          "base_uri": "https://localhost:8080/"
        },
        "id": "ImswB4fobls4",
        "outputId": "981ee60a-429d-492a-a972-f49178d0d511"
      },
      "source": [
        "x_input=test_data[341:].reshape(1,-1)\n",
        "x_input.shape"
      ],
      "execution_count": 45,
      "outputs": [
        {
          "output_type": "execute_result",
          "data": {
            "text/plain": [
              "(1, 99)"
            ]
          },
          "metadata": {},
          "execution_count": 45
        }
      ]
    },
    {
      "cell_type": "code",
      "metadata": {
        "id": "HwrNZdqlbov0"
      },
      "source": [
        "temp_input=list(x_input)\n",
        "temp_input=temp_input[0].tolist()"
      ],
      "execution_count": 46,
      "outputs": []
    },
    {
      "cell_type": "code",
      "metadata": {
        "colab": {
          "base_uri": "https://localhost:8080/"
        },
        "id": "mwZfDLp3br-g",
        "outputId": "f919837a-8113-4d6a-d54a-5affeaaa16d7"
      },
      "source": [
        "temp_input"
      ],
      "execution_count": 47,
      "outputs": [
        {
          "output_type": "execute_result",
          "data": {
            "text/plain": [
              "[0.054298416504320934,\n",
              " 0.05135121634447276,\n",
              " 0.04780458564363854,\n",
              " 0.04740496528298116,\n",
              " 0.05394874868874572,\n",
              " 0.04925320945102157,\n",
              " 0.05342424696538289,\n",
              " 0.05292472151456118,\n",
              " 0.05279984015185574,\n",
              " 0.048878565362905246,\n",
              " 0.047205155102652496,\n",
              " 0.04638093810879668,\n",
              " 0.04832908736700137,\n",
              " 0.04453269394075632,\n",
              " 0.0504021179879115,\n",
              " 0.05042709426045261,\n",
              " 0.0525251011539038,\n",
              " 0.05349917578300617,\n",
              " 0.05095159598381538,\n",
              " 0.05404865377891005,\n",
              " 0.06186622708426992,\n",
              " 0.05976822019081868,\n",
              " 0.061042010090414156,\n",
              " 0.0651381187871522,\n",
              " 0.06181627453918781,\n",
              " 0.06641190868674762,\n",
              " 0.07060792247365,\n",
              " 0.06990858684249962,\n",
              " 0.06918427493880813,\n",
              " 0.06843498676257559,\n",
              " 0.07260602427693691,\n",
              " 0.07647734652080529,\n",
              " 0.07805085169089365,\n",
              " 0.07882511613966736,\n",
              " 0.08554373345321947,\n",
              " 0.09068884559668317,\n",
              " 0.09705779509466006,\n",
              " 0.09373595084669567,\n",
              " 0.09840651381187876,\n",
              " 0.09688296118687245,\n",
              " 0.09973025625655624,\n",
              " 0.10849692791847748,\n",
              " 0.10682351765822468,\n",
              " 0.1016034766971377,\n",
              " 0.09176282531594981,\n",
              " 0.10100404615615166,\n",
              " 0.09913082571557025,\n",
              " 0.1026275038713223,\n",
              " 0.1070233278385534,\n",
              " 0.1080973075578201,\n",
              " 0.10255257505369902,\n",
              " 0.0980818222688446,\n",
              " 0.09973025625655624,\n",
              " 0.10027973425246023,\n",
              " 0.0994305409860633,\n",
              " 0.10402617513362311,\n",
              " 0.10300214795943852,\n",
              " 0.10327688695739051,\n",
              " 0.10097906988361055,\n",
              " 0.10085418852090516,\n",
              " 0.0996303511663919,\n",
              " 0.10027973425246023,\n",
              " 0.10784754483240916,\n",
              " 0.10837204655577198,\n",
              " 0.1134172536090714,\n",
              " 0.11109446026275038,\n",
              " 0.10152854787951449,\n",
              " 0.10237774114591136,\n",
              " 0.10609920575453319,\n",
              " 0.10989559918077829,\n",
              " 0.10967081272790852,\n",
              " 0.10652380238773168,\n",
              " 0.1044757480393626,\n",
              " 0.10712323292871773,\n",
              " 0.1184125081172886,\n",
              " 0.11519056895948854,\n",
              " 0.11688895549228234,\n",
              " 0.11973625056196613,\n",
              " 0.12135970827713677,\n",
              " 0.12732903741445628,\n",
              " 0.12338278635296474,\n",
              " 0.12078525400869172,\n",
              " 0.10804735501273788,\n",
              " 0.10949597882012091,\n",
              " 0.10592437184674564,\n",
              " 0.10819721264798443,\n",
              " 0.10759778210699833,\n",
              " 0.10077925970328189,\n",
              " 0.09298666267046307,\n",
              " 0.09421050002497627,\n",
              " 0.10025475797991906,\n",
              " 0.10270243268894552,\n",
              " 0.10292721914181524,\n",
              " 0.09905589689794697,\n",
              " 0.09041410659873123,\n",
              " 0.09271192367251113,\n",
              " 0.08939007942454669,\n",
              " 0.09226235076677158,\n",
              " 0.08349567910485034]"
            ]
          },
          "metadata": {},
          "execution_count": 47
        }
      ]
    },
    {
      "cell_type": "code",
      "metadata": {
        "colab": {
          "base_uri": "https://localhost:8080/",
          "height": 235
        },
        "id": "IS7_H5f0bvc7",
        "outputId": "09d64a04-9cdf-46db-888f-0b3a4c2e8105"
      },
      "source": [
        "# demonstrate prediction for next 10 days\n",
        "from numpy import array\n",
        "\n",
        "lst_output=[]\n",
        "n_steps=50\n",
        "i=0\n",
        "while(i<30):\n",
        "    \n",
        "    if(len(temp_input)>100):\n",
        "        #print(temp_input)\n",
        "        x_input=np.array(temp_input[1:])\n",
        "        print(\"{} day input {}\".format(i,x_input))\n",
        "        x_input=x_input.reshape(1,-1)\n",
        "        x_input = x_input.reshape((1, n_steps, 1))\n",
        "        #print(x_input)\n",
        "        yhat = model.predict(x_input, verbose=0)\n",
        "        print(\"{} day output {}\".format(i,yhat))\n",
        "        temp_input.extend(yhat[0].tolist())\n",
        "        temp_input=temp_input[1:]\n",
        "        #print(temp_input)\n",
        "        lst_output.extend(yhat.tolist())\n",
        "        i=i+1\n",
        "    else:\n",
        "        x_input  = x_input.reshape((1, n_steps,1))\n",
        "        #print(x_input)\n",
        "        yhat = model.predict(x_input, verbose=0)\n",
        "        print(yhat[0])\n",
        "        temp_input.extend(yhat[0].tolist())\n",
        "        print(len(temp_input))\n",
        "        lst_output.extend(yhat.tolist())\n",
        "        i=i+1\n",
        "    \n",
        "\n",
        "print(lst_output)"
      ],
      "execution_count": 60,
      "outputs": [
        {
          "output_type": "error",
          "ename": "ValueError",
          "evalue": "ignored",
          "traceback": [
            "\u001b[0;31m---------------------------------------------------------------------------\u001b[0m",
            "\u001b[0;31mValueError\u001b[0m                                Traceback (most recent call last)",
            "\u001b[0;32m<ipython-input-60-d8b10adb74ab>\u001b[0m in \u001b[0;36m<module>\u001b[0;34m()\u001b[0m\n\u001b[1;32m     22\u001b[0m         \u001b[0mi\u001b[0m\u001b[0;34m=\u001b[0m\u001b[0mi\u001b[0m\u001b[0;34m+\u001b[0m\u001b[0;36m1\u001b[0m\u001b[0;34m\u001b[0m\u001b[0;34m\u001b[0m\u001b[0m\n\u001b[1;32m     23\u001b[0m     \u001b[0;32melse\u001b[0m\u001b[0;34m:\u001b[0m\u001b[0;34m\u001b[0m\u001b[0;34m\u001b[0m\u001b[0m\n\u001b[0;32m---> 24\u001b[0;31m         \u001b[0mx_input\u001b[0m  \u001b[0;34m=\u001b[0m \u001b[0mx_input\u001b[0m\u001b[0;34m.\u001b[0m\u001b[0mreshape\u001b[0m\u001b[0;34m(\u001b[0m\u001b[0;34m(\u001b[0m\u001b[0;36m1\u001b[0m\u001b[0;34m,\u001b[0m \u001b[0mn_steps\u001b[0m\u001b[0;34m,\u001b[0m\u001b[0;36m1\u001b[0m\u001b[0;34m)\u001b[0m\u001b[0;34m)\u001b[0m\u001b[0;34m\u001b[0m\u001b[0;34m\u001b[0m\u001b[0m\n\u001b[0m\u001b[1;32m     25\u001b[0m         \u001b[0;31m#print(x_input)\u001b[0m\u001b[0;34m\u001b[0m\u001b[0;34m\u001b[0m\u001b[0;34m\u001b[0m\u001b[0m\n\u001b[1;32m     26\u001b[0m         \u001b[0myhat\u001b[0m \u001b[0;34m=\u001b[0m \u001b[0mmodel\u001b[0m\u001b[0;34m.\u001b[0m\u001b[0mpredict\u001b[0m\u001b[0;34m(\u001b[0m\u001b[0mx_input\u001b[0m\u001b[0;34m,\u001b[0m \u001b[0mverbose\u001b[0m\u001b[0;34m=\u001b[0m\u001b[0;36m0\u001b[0m\u001b[0;34m)\u001b[0m\u001b[0;34m\u001b[0m\u001b[0;34m\u001b[0m\u001b[0m\n",
            "\u001b[0;31mValueError\u001b[0m: cannot reshape array of size 99 into shape (1,50,1)"
          ]
        }
      ]
    },
    {
      "cell_type": "code",
      "metadata": {
        "id": "xM2uhbjSb2eO"
      },
      "source": [
        "day_new=np.arange(1,101)\n",
        "day_pred=np.arange(101,131)"
      ],
      "execution_count": 51,
      "outputs": []
    },
    {
      "cell_type": "code",
      "metadata": {
        "colab": {
          "base_uri": "https://localhost:8080/"
        },
        "id": "1D0OI_v8d3Z-",
        "outputId": "aba30b34-21ea-4d6d-bf70-6019ba202ff7"
      },
      "source": [
        "len(df1)"
      ],
      "execution_count": 52,
      "outputs": [
        {
          "output_type": "execute_result",
          "data": {
            "text/plain": [
              "1257"
            ]
          },
          "metadata": {},
          "execution_count": 52
        }
      ]
    },
    {
      "cell_type": "code",
      "metadata": {
        "colab": {
          "base_uri": "https://localhost:8080/",
          "height": 628
        },
        "id": "ZMLESXoNd7Cp",
        "outputId": "b6dab163-fcbc-41ee-c2bd-06a2337c7a25"
      },
      "source": [
        "plt.plot(day_new,scaler.inverse_transform(df1[1157:]))\n",
        "plt.plot(day_pred,scaler.inverse_transform(lst_output))"
      ],
      "execution_count": 59,
      "outputs": [
        {
          "output_type": "error",
          "ename": "ValueError",
          "evalue": "ignored",
          "traceback": [
            "\u001b[0;31m---------------------------------------------------------------------------\u001b[0m",
            "\u001b[0;31mValueError\u001b[0m                                Traceback (most recent call last)",
            "\u001b[0;32m<ipython-input-59-a9e984b8cbba>\u001b[0m in \u001b[0;36m<module>\u001b[0;34m()\u001b[0m\n\u001b[1;32m      1\u001b[0m \u001b[0mplt\u001b[0m\u001b[0;34m.\u001b[0m\u001b[0mplot\u001b[0m\u001b[0;34m(\u001b[0m\u001b[0mday_new\u001b[0m\u001b[0;34m,\u001b[0m\u001b[0mscaler\u001b[0m\u001b[0;34m.\u001b[0m\u001b[0minverse_transform\u001b[0m\u001b[0;34m(\u001b[0m\u001b[0mdf1\u001b[0m\u001b[0;34m[\u001b[0m\u001b[0;36m1157\u001b[0m\u001b[0;34m:\u001b[0m\u001b[0;34m]\u001b[0m\u001b[0;34m)\u001b[0m\u001b[0;34m)\u001b[0m\u001b[0;34m\u001b[0m\u001b[0;34m\u001b[0m\u001b[0m\n\u001b[0;32m----> 2\u001b[0;31m \u001b[0mplt\u001b[0m\u001b[0;34m.\u001b[0m\u001b[0mplot\u001b[0m\u001b[0;34m(\u001b[0m\u001b[0mday_pred\u001b[0m\u001b[0;34m,\u001b[0m\u001b[0mscaler\u001b[0m\u001b[0;34m.\u001b[0m\u001b[0minverse_transform\u001b[0m\u001b[0;34m(\u001b[0m\u001b[0mlst_output\u001b[0m\u001b[0;34m)\u001b[0m\u001b[0;34m)\u001b[0m\u001b[0;34m\u001b[0m\u001b[0;34m\u001b[0m\u001b[0m\n\u001b[0m",
            "\u001b[0;32m/usr/local/lib/python3.7/dist-packages/sklearn/preprocessing/_data.py\u001b[0m in \u001b[0;36minverse_transform\u001b[0;34m(self, X)\u001b[0m\n\u001b[1;32m    432\u001b[0m \u001b[0;34m\u001b[0m\u001b[0m\n\u001b[1;32m    433\u001b[0m         X = check_array(X, copy=self.copy, dtype=FLOAT_DTYPES,\n\u001b[0;32m--> 434\u001b[0;31m                         force_all_finite=\"allow-nan\")\n\u001b[0m\u001b[1;32m    435\u001b[0m \u001b[0;34m\u001b[0m\u001b[0m\n\u001b[1;32m    436\u001b[0m         \u001b[0mX\u001b[0m \u001b[0;34m-=\u001b[0m \u001b[0mself\u001b[0m\u001b[0;34m.\u001b[0m\u001b[0mmin_\u001b[0m\u001b[0;34m\u001b[0m\u001b[0;34m\u001b[0m\u001b[0m\n",
            "\u001b[0;32m/usr/local/lib/python3.7/dist-packages/sklearn/utils/validation.py\u001b[0m in \u001b[0;36mcheck_array\u001b[0;34m(array, accept_sparse, accept_large_sparse, dtype, order, copy, force_all_finite, ensure_2d, allow_nd, ensure_min_samples, ensure_min_features, warn_on_dtype, estimator)\u001b[0m\n\u001b[1;32m    554\u001b[0m                     \u001b[0;34m\"Reshape your data either using array.reshape(-1, 1) if \"\u001b[0m\u001b[0;34m\u001b[0m\u001b[0;34m\u001b[0m\u001b[0m\n\u001b[1;32m    555\u001b[0m                     \u001b[0;34m\"your data has a single feature or array.reshape(1, -1) \"\u001b[0m\u001b[0;34m\u001b[0m\u001b[0;34m\u001b[0m\u001b[0m\n\u001b[0;32m--> 556\u001b[0;31m                     \"if it contains a single sample.\".format(array))\n\u001b[0m\u001b[1;32m    557\u001b[0m \u001b[0;34m\u001b[0m\u001b[0m\n\u001b[1;32m    558\u001b[0m         \u001b[0;31m# in the future np.flexible dtypes will be handled like object dtypes\u001b[0m\u001b[0;34m\u001b[0m\u001b[0;34m\u001b[0m\u001b[0;34m\u001b[0m\u001b[0m\n",
            "\u001b[0;31mValueError\u001b[0m: Expected 2D array, got 1D array instead:\narray=[].\nReshape your data either using array.reshape(-1, 1) if your data has a single feature or array.reshape(1, -1) if it contains a single sample."
          ]
        },
        {
          "output_type": "display_data",
          "data": {
            "image/png": "[encoded data removed]",
            "text/plain": [
              "<Figure size 432x288 with 1 Axes>"
            ]
          },
          "metadata": {
            "needs_background": "light"
          }
        }
      ]
    },
    {
      "cell_type": "code",
      "metadata": {
        "colab": {
          "base_uri": "https://localhost:8080/",
          "height": 282
        },
        "id": "IgrCpGIgd-nu",
        "outputId": "2938c8a4-a535-40fc-9833-efe7a3fde07f"
      },
      "source": [
        "df3=df1.tolist()\n",
        "df3.extend(lst_output)\n",
        "plt.plot(df3[1200:])"
      ],
      "execution_count": 54,
      "outputs": [
        {
          "output_type": "execute_result",
          "data": {
            "text/plain": [
              "[<matplotlib.lines.Line2D at 0x7fb93a9ac590>]"
            ]
          },
          "metadata": {},
          "execution_count": 54
        },
        {
          "output_type": "display_data",
          "data": {
            "image/png": "[encoded data removed]",
            "text/plain": [
              "<Figure size 432x288 with 1 Axes>"
            ]
          },
          "metadata": {
            "needs_background": "light"
          }
        }
      ]
    },
    {
      "cell_type": "code",
      "metadata": {
        "id": "PD5dP_xheKOz"
      },
      "source": [
        "df3=scaler.inverse_transform(df3).tolist()"
      ],
      "execution_count": 55,
      "outputs": []
    },
    {
      "cell_type": "code",
      "metadata": {
        "colab": {
          "base_uri": "https://localhost:8080/",
          "height": 282
        },
        "id": "rtjf8Tl_eRMS",
        "outputId": "081d923d-0963-4347-a2f4-d6b5e29bb97b"
      },
      "source": [
        "\n",
        "plt.plot(df3)\n"
      ],
      "execution_count": 56,
      "outputs": [
        {
          "output_type": "execute_result",
          "data": {
            "text/plain": [
              "[<matplotlib.lines.Line2D at 0x7fb9364bb790>]"
            ]
          },
          "metadata": {},
          "execution_count": 56
        },
        {
          "output_type": "display_data",
          "data": {
            "image/png": "[encoded data removed]",
            "text/plain": [
              "<Figure size 432x288 with 1 Axes>"
            ]
          },
          "metadata": {
            "needs_background": "light"
          }
        }
      ]
    },
    {
      "cell_type": "code",
      "metadata": {
        "id": "Hj9reG5-Tnn6"
      },
      "source": [
        ""
      ],
      "execution_count": null,
      "outputs": []
    },
    {
      "cell_type": "code",
      "metadata": {
        "id": "EfRSpPVHTmhM"
      },
      "source": [
        ""
      ],
      "execution_count": null,
      "outputs": []
    }
  ]
}